{
 "cells": [
  {
   "cell_type": "code",
   "execution_count": 9,
   "metadata": {
    "ExecuteTime": {
     "end_time": "2018-01-27T06:41:07.595093Z",
     "start_time": "2018-01-27T06:41:04.665433Z"
    }
   },
   "outputs": [],
   "source": [
    "import json\n",
    "# file_name = 'ratings_Amazon_Instant_Video.csv'\n",
    "file_name = 'Amazon_Instant.csv'\n",
    "\n",
    "\n",
    "# file_name = 'ratings_Patio_Lawn_and_Garden.csv'\n",
    "output='juest'\n",
    "f = open(file_name)\n",
    "f1 = open(output, 'w')\n",
    "\n",
    "user_idx = 0\n",
    "item_idx = 0\n",
    "user = {}\n",
    "item = {}\n",
    "\n",
    "user_cnt = {}\n",
    "item_cnt = {}\n",
    "\n",
    "# sort user and item\n",
    "for line in f.readlines():\n",
    "    components = line.strip().split(\",\")\n",
    "    user_name = components[0]\n",
    "    item_name = components[1]\n",
    "    rating = components[2]\n",
    "    \n",
    "    if user_name in user:\n",
    "        user_id = user[user_name]\n",
    "        user_cnt[user_id] = user_cnt[user_id] + 1\n",
    "    else:\n",
    "        user_idx = user_idx + 1\n",
    "        user[user_name] = user_idx\n",
    "        user_cnt[user_idx] = 1\n",
    "    \n",
    "    if item_name in item:\n",
    "        item_id = item[item_name]\n",
    "        item_cnt[item_id] = item_cnt[item_id] + 1\n",
    "    else:\n",
    "        item_idx = item_idx + 1\n",
    "        item[item_name] = item_idx\n",
    "        item_cnt[item_idx] = 1\n",
    "\n",
    "f.close()\n",
    "user_cnt = sorted(user_cnt.items(), key = lambda x:x[1], reverse=True) \n",
    "item_cnt = sorted(item_cnt.items(), key = lambda x:x[1], reverse=True) "
   ]
  },
  {
   "cell_type": "code",
   "execution_count": 10,
   "metadata": {
    "ExecuteTime": {
     "end_time": "2018-01-27T06:41:12.189410Z",
     "start_time": "2018-01-27T06:41:10.013637Z"
    }
   },
   "outputs": [
    {
     "name": "stdout",
     "output_type": "stream",
     "text": [
      "num of users:3000\n",
      "num of items:3000\n",
      "num of training set:22810\n",
      "num of valid user (test set):2941\n",
      "num of valid item:2777\n",
      "num of total ratings:25751\n"
     ]
    }
   ],
   "source": [
    "max_user_num = 3000\n",
    "max_item_num = 3000\n",
    "records = 0\n",
    "user_subset = user_cnt[:max_user_num]\n",
    "item_subset = item_cnt[:max_item_num]\n",
    "\n",
    "hot_user_dict = {k:v for k,v in user_subset}\n",
    "hot_item_dict = {k:v for k,v in item_subset}\n",
    "\n",
    "valid_user_map = {}\n",
    "valid_item_map = {}\n",
    "\n",
    "valid_user_idx = 0\n",
    "valid_item_idx = 0\n",
    "# we only need the hottest user and item to improve density\n",
    "output_train = 'train.csv'\n",
    "output_test = 'test.csv'\n",
    "f = open(file_name)\n",
    "f_train = open(output_train, 'w')\n",
    "f_test = open(output_test, 'w')\n",
    "\n",
    "train_records = 0\n",
    "test_records = 0\n",
    "for line in f.readlines():\n",
    "    components = line.strip().split(\",\")\n",
    "    user_name = components[0]\n",
    "    item_name = components[1]\n",
    "    rating = components[2]\n",
    "    \n",
    "    user_id = user[user_name]\n",
    "    item_id = item[item_name]\n",
    "    if user_id in hot_user_dict and item_id in hot_item_dict:\n",
    "        if user_id in valid_user_map:\n",
    "            train_records = train_records + 1\n",
    "            f_train.write(str(valid_user_map[user_id]))\n",
    "            f_train.write(',')\n",
    "            if item_id in valid_item_map:\n",
    "                item_id = valid_item_map[item_id]\n",
    "            else:\n",
    "                valid_item_idx = valid_item_idx + 1\n",
    "                valid_item_map[item_id] = valid_item_idx\n",
    "                item_id = valid_item_idx\n",
    "            f_train.write(str(item_id))\n",
    "            f_train.write(',')\n",
    "            f_train.write(rating)\n",
    "            f_train.write('\\n')\n",
    "        else:\n",
    "            test_records = test_records + 1\n",
    "            valid_user_idx = valid_user_idx + 1\n",
    "            valid_user_map[user_id] = valid_user_idx\n",
    "            f_test.write(str(valid_user_idx))\n",
    "            f_test.write(',')\n",
    "            if item_id in valid_item_map:\n",
    "                item_id = valid_item_map[item_id]\n",
    "            else:\n",
    "                valid_item_idx = valid_item_idx + 1\n",
    "                valid_item_map[item_id] = valid_item_idx\n",
    "                item_id = valid_item_idx\n",
    "            f_test.write(str(item_id))\n",
    "            f_test.write(',')\n",
    "            f_test.write(rating)\n",
    "            f_test.write('\\n')\n",
    "\n",
    "f.close()\n",
    "f_train.close()\n",
    "f_test.close()\n",
    "\n",
    "# stats\n",
    "print(\"num of users:%d\" % len(hot_user_dict))\n",
    "print(\"num of items:%d\" % len(hot_item_dict))\n",
    "print(\"num of training set:%d\" % train_records)\n",
    "print(\"num of valid user (test set):%d\" % valid_user_idx)\n",
    "print(\"num of valid item:%d\" % valid_item_idx)\n",
    "print(\"num of total ratings:%d\" % (train_records + valid_user_idx))"
   ]
  },
  {
   "cell_type": "code",
   "execution_count": 8,
   "metadata": {
    "ExecuteTime": {
     "end_time": "2018-01-27T01:40:08.464209Z",
     "start_time": "2018-01-27T01:40:08.459931Z"
    }
   },
   "outputs": [
    {
     "name": "stdout",
     "output_type": "stream",
     "text": [
      "714791\n",
      "105984\n"
     ]
    }
   ],
   "source": [
    "print(len(user_cnt))\n",
    "print(len(item_cnt))"
   ]
  },
  {
   "cell_type": "code",
   "execution_count": 4,
   "metadata": {},
   "outputs": [
    {
     "name": "stdout",
     "output_type": "stream",
     "text": [
      "(28511, 3) (6986, 3)\n"
     ]
    }
   ],
   "source": [
    "import random\n",
    "import numpy as np\n",
    "import scipy.io as scio\n",
    "\n",
    "#读取数据函数,返回list类型的训练数据集和测试数据集\n",
    "def loadData(fileName):   \n",
    "    trainingData=[]\n",
    "    testData=[]\n",
    "    with open(fileName) as txtData:\n",
    "        lines=txtData.readlines()\n",
    "        for line in lines:\n",
    "            lineData=line.strip().split(' ')    #去除空白和逗号“,”\n",
    "            if random.random()<0.8:             #数据集分割比例\n",
    "                trainingData.append(lineData)   #训练数据集\n",
    "            else:\n",
    "                testData.append(lineData)       #测试数据集\n",
    "    return trainingData,testData\n",
    "\n",
    "trainingData, testData = loadData('filmtrust/ratings.txt')\n",
    "scio.savemat('matData2.mat',{'train_X':matrix1, 'train_Y':trainingData[:,]})\n"
   ]
  }
 ],
 "metadata": {
  "kernelspec": {
   "display_name": "Python 3",
   "language": "python",
   "name": "python3"
  },
  "language_info": {
   "codemirror_mode": {
    "name": "ipython",
    "version": 3
   },
   "file_extension": ".py",
   "mimetype": "text/x-python",
   "name": "python",
   "nbconvert_exporter": "python",
   "pygments_lexer": "ipython3",
   "version": "3.6.4"
  }
 },
 "nbformat": 4,
 "nbformat_minor": 1
}
